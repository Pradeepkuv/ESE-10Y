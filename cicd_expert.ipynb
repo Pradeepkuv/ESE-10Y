{
 "cells": [
  {
   "cell_type": "markdown",
   "id": "90b47df8-f046-4c86-9baa-a518845ad9d4",
   "metadata": {},
   "source": [
    "# Docker\n",
    "\n",
    "**Sample Dockfile to run django**\n",
    "\n",
    "```\n",
    "FROM FROM python:3.8.3-alpine\n",
    "\n",
    "ENV PYTHONDONTWRITEBYTECODE 1\n",
    "\n",
    "ENV PYTHONUNBUFFERED 1\n",
    "\n",
    "RUN mkdir /dev\n",
    "\n",
    "WORKDIR /dev\n",
    "\n",
    "RUN pip install --upgrade pip\n",
    "\n",
    "COPY requirements.txt /dev\n",
    "\n",
    "RUN pip install -r requirements.txt\n",
    "\n",
    "COPY . /dev/\n",
    "\n",
    "EXPOSE 8000\n",
    "FROM python:3.8.3-alpine\n",
    "CMD [\"python\", \"manage.py\", \"runserver\", \"0.0.0.0:8000\"]\n",
    "```\n",
    "\n",
    "- Git and Gitlab\n",
    "- Jenkins\n",
    "- AWS EC2, S3, RDS, Lambda and more\n",
    "- APM Tools- ELK, Kibana, Newrelic and Grafana\n",
    "- Proxy Servers- Apache & Ngnix\n",
    "- AWS EC2, S3, RDS, Lambda, SNS, SQS, Cloudwatch and API gateway\n",
    "- Questions on AWS lambda\n",
    "- AWS security"
   ]
  }
 ],
 "metadata": {
  "kernelspec": {
   "display_name": "Python 3 (ipykernel)",
   "language": "python",
   "name": "python3"
  },
  "language_info": {
   "codemirror_mode": {
    "name": "ipython",
    "version": 3
   },
   "file_extension": ".py",
   "mimetype": "text/x-python",
   "name": "python",
   "nbconvert_exporter": "python",
   "pygments_lexer": "ipython3",
   "version": "3.10.6"
  }
 },
 "nbformat": 4,
 "nbformat_minor": 5
}
