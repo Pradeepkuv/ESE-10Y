{
 "cells": [
  {
   "cell_type": "code",
   "execution_count": null,
   "id": "700d2722-405e-4ce3-a8bd-35b38aa0959f",
   "metadata": {},
   "outputs": [],
   "source": [
    "# Write the function in Python to Group a list of words into a list of lists of words. Group by anagrams\n",
    "\n",
    "def toString(List):\n",
    "    return ''.join(List)\n",
    "\n",
    "def permute(a,l,r):\n",
    "    anargams = []\n",
    "    r = len(a)\n",
    "    l = 0\n",
    "    if l==r:\n",
    "        anargams.append(toString(a))\n",
    "    else:\n",
    "        for i in range(l,r):\n",
    "            a[l], a[i] = a[i], a[l]\n",
    "            permute(a, l+1, r)\n",
    "            a[l], a[i] = a[i], a[l]\n",
    "    return anargams\n",
    "def group_by_anagrams(words):\n",
    "    anargam_list = []\n",
    "    for a in words:\n",
    "        anargams = permute(list(a),0,len(a))\n",
    "        print(anargams)\n",
    "        anargam_list.append(anargams)\n",
    "    return anargam_list\n",
    "\n",
    "def main():\n",
    "    words = ['dog', 'elvis', 'forest', 'fortes', 'foster', 'goat',\n",
    "             'god', 'heros', 'horse', 'lives', 'shore', 'softer']\n",
    "    print(group_by_anagrams(words))\n",
    "\n",
    "main()\n",
    "# Expected_Output:\n",
    "# [\n",
    "#     ['elvis', 'lives'],\n",
    "#     ['forest', 'fortes', 'foster', 'softer'],\n",
    "#     ['heros', 'horse', 'shore'],\n",
    "#     ['dog', 'god'], \n",
    "#     ['goat']\n",
    "# ]"
   ]
  },
  {
   "cell_type": "code",
   "execution_count": null,
   "id": "dc555751-9773-486e-bb66-63496bb74d8e",
   "metadata": {},
   "outputs": [],
   "source": []
  },
  {
   "cell_type": "code",
   "execution_count": 1,
   "id": "b458a954-2126-4f16-88dc-31cb0ef375e0",
   "metadata": {},
   "outputs": [
    {
     "name": "stdout",
     "output_type": "stream",
     "text": [
      "1\n",
      "3\n",
      "5\n"
     ]
    }
   ],
   "source": [
    "def isOdd(func):\n",
    "    def inner(lst1):\n",
    "        for item in lst1:\n",
    "            if item%2!=0:\n",
    "                print(item)\n",
    "        # func(item)\n",
    "    return inner\n",
    "            \n",
    "@isOdd\n",
    "def FilterOddNumber(lst1):\n",
    "    print(lst1)\n",
    "\n",
    "FilterOddNumber([1,2,3,4,5,6])\n",
    "    "
   ]
  },
  {
   "cell_type": "markdown",
   "id": "7f73b0d9-9648-488c-b0c0-b1c2bc24438c",
   "metadata": {},
   "source": [
    "import os\n",
    "\n",
    "- form a tree out of all directories and files\n",
    "- Traverse the tree\n",
    "- On each node compare the names \n",
    "- Keep only one name \n",
    "- rearrange the tree\n",
    "\n",
    "\n"
   ]
  },
  {
   "cell_type": "code",
   "execution_count": null,
   "id": "f26c9f47-c1f8-479e-8428-260db9f4d18b",
   "metadata": {},
   "outputs": [],
   "source": [
    "- File Context Manager\n",
    "- threading module\n",
    "- main"
   ]
  },
  {
   "cell_type": "code",
   "execution_count": 10,
   "id": "2971c76c-bde1-4857-87a9-d5dbee53402d",
   "metadata": {},
   "outputs": [
    {
     "name": "stdout",
     "output_type": "stream",
     "text": [
      "10  8  3  \n",
      "10  8  5  \n",
      "10  2  2  \n"
     ]
    }
   ],
   "source": [
    "#Print all paths from root to leaf in a binary tree\n",
    "\n",
    "#Algorithm: Steps for print all paths from root to leaf are: \n",
    "#If node is null then return 0 put node.data in array and \n",
    "#increment len by 1. If encounterd leaf node(i.e. node.left is \n",
    "#null and node.right is null) then print array. \n",
    "#Recursively visit left subtree and right subtree\n",
    "\n",
    "class Node:\n",
    "    def __init__(self,data):\n",
    "        self.data = data\n",
    "        self.left = None\n",
    "        self.right = None\n",
    "def printPaths(root):\n",
    "\tpath = []\n",
    "\tprintPathsRec(root,path,0)\n",
    "\n",
    "def printPathsRec(root,path,pathLen):\n",
    "\tif root is None:\n",
    "\t  return\n",
    "\tif (len(path)>pathLen):\n",
    "\t  path[pathLen] = root.data\n",
    "\telse:\n",
    "\t  path.append(root.data)\n",
    "\tpathLen = pathLen+1\n",
    "\tif root.left is None and root.right is None:\n",
    "\t  printArray(path,pathLen)\n",
    "\telse:\n",
    "\t  printPathsRec(root.left, path, pathLen)\n",
    "\t  printPathsRec(root.right, path, pathLen)\n",
    "def printArray(ints,len):\n",
    "    for i in ints[0:len]:\n",
    "        print(i,\" \",end=\"\")\n",
    "    print()\n",
    " \n",
    "root = Node(10)\n",
    "root.left = Node(8)\n",
    "root.right = Node(2)\n",
    "\n",
    "root.left.left=Node(3)\n",
    "root.left.right=Node(5)\n",
    "\n",
    "root.right.left = Node(2)\n",
    "\n",
    "printPaths(root)"
   ]
  }
 ],
 "metadata": {
  "kernelspec": {
   "display_name": "Python 3 (ipykernel)",
   "language": "python",
   "name": "python3"
  },
  "language_info": {
   "codemirror_mode": {
    "name": "ipython",
    "version": 3
   },
   "file_extension": ".py",
   "mimetype": "text/x-python",
   "name": "python",
   "nbconvert_exporter": "python",
   "pygments_lexer": "ipython3",
   "version": "3.9.12"
  }
 },
 "nbformat": 4,
 "nbformat_minor": 5
}
