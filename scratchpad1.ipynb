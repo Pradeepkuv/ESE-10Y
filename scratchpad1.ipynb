{
 "cells": [
  {
   "cell_type": "code",
   "execution_count": 2,
   "id": "86ae23a4-096e-4317-b565-7692629e29f1",
   "metadata": {},
   "outputs": [
    {
     "name": "stdout",
     "output_type": "stream",
     "text": [
      "None\n"
     ]
    }
   ],
   "source": [
    "root = {\n",
    "    'value': 10,\n",
    "    'node': {\n",
    "        'value': 20,\n",
    "        'node': {\n",
    "            'value': 30\n",
    "        }\n",
    "    }\n",
    "}\n",
    "\n",
    "def sum(root):\n",
    "    pass\n",
    "\n",
    "print(sum(root))\n",
    "\n"
   ]
  },
  {
   "cell_type": "code",
   "execution_count": null,
   "id": "1a92c3be-4442-45a9-a2b3-b977a1fe3eb7",
   "metadata": {},
   "outputs": [],
   "source": [
    "str1=\"{This}is(Python[Coding]example)\"\n",
    "\n",
    "braces = {'{':0,'}':1,'[':0,']':1,'(':0,')':1}\n",
    "\n",
    "for s in str1:\n",
    "    opening=0\n",
    "    closing=0\n",
    "    if s in braces.keys():\n",
    "        braces[s]\n",
    "        \n",
    "        \n",
    "SELECT * FROM Employee WHERE sal = \n",
    "         (\n",
    "            SELECT MIN(sal) FROM Employee \n",
    "            WHERE  sal IN (\n",
    "                                 SELECT DISTINCT TOP N\n",
    "                                     sal FROM Employee \n",
    "                                         ORDER BY sal DESC\n",
    "                             )\n",
    "        )"
   ]
  },
  {
   "cell_type": "code",
   "execution_count": 11,
   "id": "fdb8983b-1a18-45e9-a2e7-00b151042cf8",
   "metadata": {},
   "outputs": [
    {
     "name": "stdout",
     "output_type": "stream",
     "text": [
      "{}([])\n",
      "Balanced\n"
     ]
    }
   ],
   "source": [
    "# Python3 program to check for\n",
    "# balanced brackets.\n",
    "\n",
    "# function to check if\n",
    "# brackets are balanced\n",
    "\n",
    "def removeNonBracketChar(expr):\n",
    "    braces = [\"(\", \"{\", \"[\",\")\",\"}\",\"]\"]\n",
    "    chars = list(expr)\n",
    "    expr2 = []\n",
    "    for char in chars:\n",
    "        if char in braces:\n",
    "            expr2.append(char)\n",
    "    return ''.join(expr2)\n",
    "\n",
    "def areBracketsBalanced(expr1):\n",
    "    stack = []\n",
    "    expr = removeNonBracketChar(expr1)\n",
    "    print(expr)\n",
    "    for char in expr:\n",
    "        if char in [\"(\", \"{\", \"[\"]:\n",
    "            stack.append(char)\n",
    "        else:\n",
    "            if not stack:\n",
    "                return False\n",
    "            current_char = stack.pop()\n",
    "            if current_char == '(':\n",
    "                if char != \")\":\n",
    "                    return False\n",
    "            if current_char == '{':\n",
    "                if char != \"}\":\n",
    "                    return False\n",
    "            if current_char == '[':\n",
    "                if char != \"]\":\n",
    "                    return False\n",
    "    if stack:\n",
    "        return False\n",
    "    return True\n",
    "\n",
    "\n",
    "# Driver Code\n",
    "if __name__ == \"__main__\":\n",
    "    expr = \"{This}is(Python[Coding]example)\"\n",
    "    if areBracketsBalanced(expr):\n",
    "        print(\"Balanced\")\n",
    "    else:\n",
    "        print(\"Not Balanced\")\n",
    "\n"
   ]
  }
 ],
 "metadata": {
  "kernelspec": {
   "display_name": "Python 3 (ipykernel)",
   "language": "python",
   "name": "python3"
  },
  "language_info": {
   "codemirror_mode": {
    "name": "ipython",
    "version": 3
   },
   "file_extension": ".py",
   "mimetype": "text/x-python",
   "name": "python",
   "nbconvert_exporter": "python",
   "pygments_lexer": "ipython3",
   "version": "3.9.12"
  }
 },
 "nbformat": 4,
 "nbformat_minor": 5
}
