{
 "cells": [
  {
   "cell_type": "code",
   "execution_count": 1,
   "id": "61bc4172-3f6b-4745-943e-950bb2230a3c",
   "metadata": {},
   "outputs": [
    {
     "name": "stdout",
     "output_type": "stream",
     "text": [
      "SKEEGROFSKEEG\n"
     ]
    }
   ],
   "source": [
    "str1=\"GeeksForGeeks\"\n",
    "\n",
    "rev_upper = lambda string:string.upper()[::-1]\n",
    "\n",
    "print(rev_upper(str1))"
   ]
  },
  {
   "cell_type": "code",
   "execution_count": 6,
   "id": "317db6bc-ba4b-47a0-b60b-fd175cc3b354",
   "metadata": {},
   "outputs": [
    {
     "name": "stdout",
     "output_type": "stream",
     "text": [
      "going to devide by 2\n",
      "5.0\n"
     ]
    }
   ],
   "source": [
    "def smart_devide(func):\n",
    "    def inner(a,b):\n",
    "        print('going to devide by '+str(b))\n",
    "        if b==0:\n",
    "            print('Whoops! can not devide by zero')\n",
    "            return\n",
    "        return func(a,b)\n",
    "    return inner\n",
    "\n",
    "@smart_devide\n",
    "def devide(a,b):\n",
    "    print(a/b)\n",
    "\n",
    "devide(10,2)"
   ]
  },
  {
   "cell_type": "code",
   "execution_count": 7,
   "id": "d62f4abe-e2d5-4f09-97e0-6d61b02a44ed",
   "metadata": {},
   "outputs": [
    {
     "name": "stdout",
     "output_type": "stream",
     "text": [
      "******************************\n",
      "%%%%%%%%%%%%%%%%%%%%%%%%%%%%%%\n",
      "Hello\n",
      "%%%%%%%%%%%%%%%%%%%%%%%%%%%%%%\n",
      "******************************\n"
     ]
    }
   ],
   "source": [
    "def star(func):\n",
    "    def inner(*args, **kwargs):\n",
    "        print(\"*\" * 30)\n",
    "        func(*args, **kwargs)\n",
    "        print(\"*\" * 30)\n",
    "    return inner\n",
    "\n",
    "\n",
    "def percent(func):\n",
    "    def inner(*args, **kwargs):\n",
    "        print(\"%\" * 30)\n",
    "        func(*args, **kwargs)\n",
    "        print(\"%\" * 30)\n",
    "    return inner\n",
    "\n",
    "\n",
    "@star\n",
    "@percent\n",
    "def printer(msg):\n",
    "    print(msg)\n",
    "\n",
    "\n",
    "printer(\"Hello\")"
   ]
  },
  {
   "cell_type": "code",
   "execution_count": 8,
   "id": "5ab894c3-30bb-45ba-9594-abb74f055123",
   "metadata": {},
   "outputs": [
    {
     "name": "stdout",
     "output_type": "stream",
     "text": [
      "Counter({'blue': 3, 'red': 2, 'yellow': 1})\n",
      "blue 3\n",
      "red 2\n",
      "yellow 1\n",
      "green 0\n"
     ]
    }
   ],
   "source": [
    "# Python program to demonstrate accessing of\n",
    "# Counter elements\n",
    "from collections import Counter\n",
    "\n",
    "# Create a list\n",
    "z = ['blue', 'red', 'blue', 'yellow', 'blue', 'red']\n",
    "col_count = Counter(z)\n",
    "print(col_count)\n",
    "\n",
    "col = ['blue','red','yellow','green']\n",
    "\n",
    "# Here green is not in col_count\n",
    "# so count of green will be zero\n",
    "for color in col:\n",
    "    print (color, col_count[color])"
   ]
  },
  {
   "cell_type": "code",
   "execution_count": 9,
   "id": "b40640c3-e0eb-4d87-9d18-95b775e2d713",
   "metadata": {},
   "outputs": [
    {
     "name": "stdout",
     "output_type": "stream",
     "text": [
      "<Logger exc_logger (INFO)>\n"
     ]
    },
    {
     "ename": "RuntimeError",
     "evalue": "No active exception to reraise",
     "output_type": "error",
     "traceback": [
      "\u001b[0;31m---------------------------------------------------------------------------\u001b[0m",
      "\u001b[0;31mRuntimeError\u001b[0m                              Traceback (most recent call last)",
      "Cell \u001b[0;32mIn [9], line 62\u001b[0m\n\u001b[1;32m     60\u001b[0m \u001b[38;5;66;03m# Driver Code\u001b[39;00m\n\u001b[1;32m     61\u001b[0m \u001b[38;5;28;01mif\u001b[39;00m \u001b[38;5;18m__name__\u001b[39m \u001b[38;5;241m==\u001b[39m \u001b[38;5;124m'\u001b[39m\u001b[38;5;124m__main__\u001b[39m\u001b[38;5;124m'\u001b[39m:\n\u001b[0;32m---> 62\u001b[0m \tdivideStrByInt()\n",
      "Cell \u001b[0;32mIn [9], line 49\u001b[0m, in \u001b[0;36mexception.<locals>.decorator.<locals>.wrapper\u001b[0;34m(*args, **kwargs)\u001b[0m\n\u001b[1;32m     46\u001b[0m \tissue \u001b[38;5;241m=\u001b[39m issue\u001b[38;5;241m+\u001b[39m\u001b[38;5;124m\"\u001b[39m\u001b[38;5;124m-------------------------\u001b[39m\u001b[38;5;130;01m\\\u001b[39;00m\n\u001b[1;32m     47\u001b[0m \u001b[38;5;124m\t------------------------------------------------\u001b[39m\u001b[38;5;130;01m\\n\u001b[39;00m\u001b[38;5;124m\"\u001b[39m\n\u001b[1;32m     48\u001b[0m \tlogger\u001b[38;5;241m.\u001b[39mexception(issue)\n\u001b[0;32m---> 49\u001b[0m \u001b[38;5;28;01mraise\u001b[39;00m\n",
      "\u001b[0;31mRuntimeError\u001b[0m: No active exception to reraise"
     ]
    }
   ],
   "source": [
    "import logging\n",
    "from functools import wraps\n",
    "\n",
    "\n",
    "def create_logger():\n",
    "\t\n",
    "\t#create a logger object\n",
    "\tlogger = logging.getLogger('exc_logger')\n",
    "\tlogger.setLevel(logging.INFO)\n",
    "\t\n",
    "\t#create a file to store all the\n",
    "\t# logged exceptions\n",
    "\tlogfile = logging.FileHandler('exc_logger.log')\n",
    "\t\n",
    "\tfmt = '%(asctime)s - %(name)s - %(levelname)s - %(message)s'\n",
    "\tformatter = logging.Formatter(fmt)\n",
    "\t\n",
    "\tlogfile.setFormatter(formatter)\n",
    "\tlogger.addHandler(logfile)\n",
    "\t\n",
    "\treturn logger\n",
    "\n",
    "\n",
    "logger = create_logger()\n",
    "\n",
    "# you will find a log file\n",
    "# created in a given path\n",
    "print(logger)\n",
    "\n",
    "\n",
    "def exception(logger):\n",
    "\t\n",
    "\t# logger is the logging object\n",
    "\t# exception is the decorator objects\n",
    "\t# that logs every exception into log file\n",
    "\tdef decorator(func):\n",
    "\t\t\n",
    "\t\t@wraps(func)\n",
    "\t\tdef wrapper(*args, **kwargs):\n",
    "\t\t\t\n",
    "\t\t\ttry:\n",
    "\t\t\t\treturn func(*args, **kwargs)\n",
    "\t\t\t\n",
    "\t\t\texcept:\n",
    "\t\t\t\tissue = \"exception in \"+func.__name__+\"\\n\"\n",
    "\t\t\t\tissue = issue+\"-------------------------\\\n",
    "\t\t\t\t------------------------------------------------\\n\"\n",
    "\t\t\t\tlogger.exception(issue)\n",
    "\t\t\traise\n",
    "\t\t\t\n",
    "\t\t\n",
    "\t\treturn wrapper\n",
    "\treturn decorator\n",
    "\n",
    "\n",
    "@exception(logger)\n",
    "def divideStrByInt():\n",
    "\treturn \"krishna\"/7\n",
    "\n",
    "# Driver Code\n",
    "if __name__ == '__main__':\n",
    "\tdivideStrByInt()\n"
   ]
  },
  {
   "cell_type": "code",
   "execution_count": null,
   "id": "b09c3dce-4543-4bbd-9cec-dc647409fd6c",
   "metadata": {},
   "outputs": [],
   "source": []
  }
 ],
 "metadata": {
  "kernelspec": {
   "display_name": "Python 3 (ipykernel)",
   "language": "python",
   "name": "python3"
  },
  "language_info": {
   "codemirror_mode": {
    "name": "ipython",
    "version": 3
   },
   "file_extension": ".py",
   "mimetype": "text/x-python",
   "name": "python",
   "nbconvert_exporter": "python",
   "pygments_lexer": "ipython3",
   "version": "3.10.6"
  }
 },
 "nbformat": 4,
 "nbformat_minor": 5
}
