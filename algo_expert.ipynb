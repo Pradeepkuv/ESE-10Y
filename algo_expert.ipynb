{
 "cells": [
  {
   "cell_type": "markdown",
   "id": "66c57c05-6bc6-4351-aa6a-208f63ffac71",
   "metadata": {},
   "source": [
    "# Topic\n",
    "- Complexity Analysis\n",
    "- Arrays\n",
    "- Strings\n",
    "- Linkedlist\n",
    "- Queue\n",
    "- Stack\n",
    "- Sorting\n",
    "- Searching\n",
    "- Recurssion\n",
    "- Dynamic programing\n",
    "- Competetive programing"
   ]
  },
  {
   "cell_type": "markdown",
   "id": "68c6ca8e-1596-49cd-bd1a-c00a806a2814",
   "metadata": {},
   "source": [
    "# Count Pairs with given sum\n",
    "\n",
    "Given an array of N integers, and an integer K, find the number of pairs of elements in the array whose sum is equal to K.\n",
    "\n",
    "Example 1:\n",
    "\n",
    "```\n",
    "Input:\n",
    "N = 4, K = 6\n",
    "arr[] = {1, 5, 7, 1}\n",
    "Output: 2\n",
    "Explanation: \n",
    "arr[0] + arr[1] = 1 + 5 = 6 \n",
    "and arr[1] + arr[3] = 5 + 1 = 6.\n",
    "```\n",
    "\n",
    "Example 2:\n",
    "\n",
    "```\n",
    "Input:\n",
    "N = 4, K = 2\n",
    "arr[] = {1, 1, 1, 1}\n",
    "Output: 6\n",
    "Explanation: \n",
    "Each 1 will produce sum 2 with any 1.\n",
    "```\n",
    "\n",
    "Your Task:\n",
    "\n",
    "You don't need to read input or print anything. Your task is to complete the function getPairsCount() which takes arr[], n and k as input parameters and returns the number of pairs that have sum K.\n",
    "\n",
    "\n",
    "Expected Time Complexity: O(N)\n",
    "\n",
    "Expected Auxiliary Space: O(N)\n",
    "\n",
    "Constraints:\n",
    "```\n",
    "1 <= N <= 10^5\n",
    "\n",
    "1 <= K <= 10^8\n",
    "\n",
    "1 <= Arr[i] <= 10^6\n",
    "```"
   ]
  },
  {
   "cell_type": "markdown",
   "id": "d0261136-ea8e-4ab6-969d-3bfb78365f6a",
   "metadata": {},
   "source": [
    "**Naive Approach:** \n",
    "\n",
    "A simple solution is to traverse each element and check if there’s another number in the array which can be added to it to give sum.\n",
    "\n",
    "This can be achieved by nested loops.\n",
    "\n",
    "Illustration:\n",
    "\n",
    "```\n",
    "Given arr[] = {1, 5, 7, -1}, sum = 6\n",
    "count = 0\n",
    "\n",
    "First Iteration : For index = 0\n",
    "{1, 5, 7, -1}, pair = (1, 5), count = 1\n",
    "Second Iteration : For index = 1\n",
    "{1, 5, 7, -1}, count = 1\n",
    "Third Iteration : For index = 2\n",
    "{1, 5, 7, -1}, count = 2\n",
    "Hence output is 2\n",
    "```\n",
    "\n",
    "Follow the steps below to solve the given problem:\n",
    "\n",
    "- Initialize the count variable with 0 which stores the result.\n",
    "\n",
    "- Iterate arr and if the sum of ith and jth [i + 1…..n – 1] element is equal to sum i.e. arr[i] + arr[j] == sum, then increment the count variable.\n",
    "\n",
    "- Return the count."
   ]
  },
  {
   "cell_type": "code",
   "execution_count": 2,
   "id": "c6b53915-6911-4c79-967b-e918f99cd9b8",
   "metadata": {},
   "outputs": [
    {
     "name": "stdout",
     "output_type": "stream",
     "text": [
      "Count of pairs is 3\n"
     ]
    }
   ],
   "source": [
    "def getPairsCount(arr, n, sum):\n",
    " \n",
    "    count = 0  # Initialize result\n",
    " \n",
    "    # Consider all possible pairs\n",
    "    # and check their sums\n",
    "    for i in range(0, n):\n",
    "        for j in range(i + 1, n):\n",
    "            if arr[i] + arr[j] == sum:\n",
    "                count += 1\n",
    " \n",
    "    return count\n",
    " \n",
    " \n",
    "# Driver function\n",
    "arr = [1, 5, 7, -1, 5]\n",
    "n = len(arr)\n",
    "sum = 6\n",
    "print(\"Count of pairs is\",\n",
    "      getPairsCount(arr, n, sum))"
   ]
  },
  {
   "cell_type": "code",
   "execution_count": 4,
   "id": "46d91e99-ec1d-4706-9d95-e4f81a26e7f4",
   "metadata": {},
   "outputs": [
    {
     "name": "stdout",
     "output_type": "stream",
     "text": [
      "Count of pairs is 3\n"
     ]
    }
   ],
   "source": [
    "\n",
    "def getPairsCount(arr, n, k):\n",
    "    cnt = 0\n",
    "    hashmap= {}\n",
    "    for i in arr:\n",
    "        #print (hashmap)\n",
    "        if i in hashmap:\n",
    "            #print (\"here \",i)\n",
    "            hashmap[i]+=1\n",
    "        else:\n",
    "            #print (\"else \",i)\n",
    "            hashmap[i]=1\n",
    "    #print (hashmap) \n",
    "    for i in arr:\n",
    "        if k-i>0 and k-i in hashmap and hashmap[k-i]>0:\n",
    "                hashmap[i]-=1\n",
    "                cnt+=hashmap[k-i]\n",
    "    return cnt\n",
    "\n",
    "# Driver function\n",
    "arr = [1, 5, 7, -1, 5]\n",
    "n = len(arr)\n",
    "sum = 6\n",
    "print(\"Count of pairs is\",getPairsCount(arr, n, sum))"
   ]
  },
  {
   "cell_type": "code",
   "execution_count": 7,
   "id": "69715a8d-a7d2-4f70-9fcf-bfccb0b67b4f",
   "metadata": {},
   "outputs": [
    {
     "name": "stdout",
     "output_type": "stream",
     "text": [
      "1\n",
      "1\n",
      "1\n",
      "2\n",
      "Count of pairs is 3\n"
     ]
    }
   ],
   "source": [
    "# Python implementation of simple method to find count of\n",
    "# pairs with given sum.\n",
    "\n",
    "# Returns number of pairs in arr[0..n-1] with sum equal to 'sum'\n",
    "\n",
    "\n",
    "def getPairsCount(arr, n, sum):\n",
    "    unordered_map = {}\n",
    "    count = 0\n",
    "    for i in range(n):\n",
    "        if sum - arr[i] in unordered_map:\n",
    "            count += unordered_map[sum - arr[i]]\n",
    "            # print(unordered_map[sum - arr[i]])\n",
    "        if arr[i] in unordered_map:\n",
    "            unordered_map[arr[i]] += 1\n",
    "            # print(unordered_map[arr[i]])\n",
    "        else:\n",
    "            unordered_map[arr[i]] = 1\n",
    "        # print(unordered_map)\n",
    "    return count\n",
    "\n",
    "\n",
    "# Driver code\n",
    "arr = [1, 5, 7, -1, 5]\n",
    "n = len(arr)\n",
    "sum = 6\n",
    "print('Count of pairs is', getPairsCount(arr, n, sum))\n",
    "\n",
    "# This code is contributed by Manish Thapa\n"
   ]
  },
  {
   "cell_type": "markdown",
   "id": "998aa275-c740-49d0-b476-306663c4dd9d",
   "metadata": {},
   "source": [
    "# Maximum and Minimun of an Array\n",
    "\n",
    "Given an array of size **N**. The task is to find the maximum and the minimum element of the array using the minimum number of comparisons.\n",
    "\n",
    "Examples:\n",
    "\n",
    "```\n",
    "Input: arr[] = {3, 5, 4, 1, 9}\n",
    "Output: Minimum element is: 1\n",
    "        Maximum element is: 9\n",
    "\n",
    "Input: arr[] = {22, 14, 8, 17, 35, 3}\n",
    "Output:  Minimum element is: 3\n",
    "         Maximum element is: 35\n",
    "```"
   ]
  },
  {
   "cell_type": "code",
   "execution_count": 6,
   "id": "4b3e0a32-b2ad-4582-a327-0f75b7b8fc83",
   "metadata": {},
   "outputs": [
    {
     "name": "stdout",
     "output_type": "stream",
     "text": [
      "Minimum element is 1\n",
      "Maximum element is 3000\n"
     ]
    }
   ],
   "source": [
    "# Python program of above implementation\n",
    "\n",
    "# structure is used to return two values from minMax()\n",
    "\n",
    "class Pair:\n",
    "    def __init__(self):\n",
    "        self.min = 0\n",
    "        self.max = 0\n",
    "\n",
    "def getMinMax(arr: list, n: int) -> Pair:\n",
    "    minmax = Pair()\n",
    "    # If there is only one element then return it as min and max both\n",
    "    if n == 1:\n",
    "        minmax.max = arr[0]\n",
    "        minmax.min = arr[0]\n",
    "        return minmax\n",
    "    # If there are more than one elements, then initialize min and max\n",
    "    if arr[0] > arr[1]:\n",
    "        minmax.max = arr[0]\n",
    "        minmax.min = arr[1]\n",
    "    else:\n",
    "        minmax.max = arr[1]\n",
    "        minmax.min = arr[0]\n",
    "    for i in range(2, n):\n",
    "        if arr[i] > minmax.max:\n",
    "            minmax.max = arr[i]\n",
    "        elif arr[i] < minmax.min:\n",
    "            minmax.min = arr[i]\n",
    "    return minmax\n",
    "\n",
    "# Driver Code\n",
    "if __name__ == \"__main__\":\n",
    "    arr = [1000, 11, 445, 1, 330, 3000]\n",
    "    arr_size = 6\n",
    "    minmax = getMinMax(arr, arr_size)\n",
    "    print(\"Minimum element is\", minmax.min)\n",
    "    print(\"Maximum element is\", minmax.max)\n"
   ]
  },
  {
   "cell_type": "markdown",
   "id": "7fc4c6e6-5920-4fb0-8cc2-374bc91801ab",
   "metadata": {
    "tags": []
   },
   "source": [
    "# Write a program to reverse an array or string\n",
    "\n",
    "Given an array (or string), the task is to reverse the array/string.\n",
    "Examples : \n",
    " \n",
    "\n",
    "Input  : arr[] = {1, 2, 3}\n",
    "\n",
    "Output : arr[] = {3, 2, 1}\n",
    "\n",
    "\n",
    "Input :  arr[] = {4, 5, 1, 2}\n",
    "\n",
    "Output : arr[] = {2, 1, 5, 4}\n"
   ]
  },
  {
   "cell_type": "code",
   "execution_count": 12,
   "id": "aa3c2355-5c9c-4478-9ba3-59f6f53a7133",
   "metadata": {},
   "outputs": [
    {
     "name": "stdout",
     "output_type": "stream",
     "text": [
      "[1, 2, 3, 4, 5, 6]\n",
      "Reversed list is\n",
      "[6, 5, 4, 3, 2, 1]\n"
     ]
    }
   ],
   "source": [
    "def reverseList(A, start, end):\n",
    "    while start < end:\n",
    "        A[start], A[end] = A[end], A[start]\n",
    "        start += 1\n",
    "        end -= 1\n",
    " \n",
    "# Driver function to test above function\n",
    "A = [1, 2, 3, 4, 5, 6]\n",
    "print(A)\n",
    "reverseList(A, 0, 5)\n",
    "print(\"Reversed list is\")\n",
    "print(A)"
   ]
  },
  {
   "cell_type": "markdown",
   "id": "34fe368c-fe7d-49f3-864a-f409bb3c5c44",
   "metadata": {},
   "source": [
    "# K’th Smallest/Largest Element in Unsorted Array "
   ]
  },
  {
   "cell_type": "code",
   "execution_count": 9,
   "id": "2afe14b6-0318-40f3-a732-fff85817dd5a",
   "metadata": {},
   "outputs": [
    {
     "name": "stdout",
     "output_type": "stream",
     "text": [
      "{3, 5, 7, 12, 19}\n",
      "12\n"
     ]
    }
   ],
   "source": [
    "arr = [12, 3, 5, 7, 19]\n",
    "N = len(arr)\n",
    "K = 4\n",
    " \n",
    "s = set(arr)\n",
    "print(s)\n",
    "for itr in s:\n",
    "        if K == 1:\n",
    "            print(itr)  # itr is the Kth element in the set\n",
    "            break\n",
    "        K -= 1"
   ]
  },
  {
   "cell_type": "markdown",
   "id": "d8740ffc-5612-4053-a167-f18161b5b818",
   "metadata": {},
   "source": [
    "# Find Peak element in an array"
   ]
  },
  {
   "cell_type": "code",
   "execution_count": 17,
   "id": "2bea48ce-7879-40ab-9e7e-019d67976a3c",
   "metadata": {},
   "outputs": [
    {
     "name": "stdout",
     "output_type": "stream",
     "text": [
      "Index of a peak point is 2\n"
     ]
    }
   ],
   "source": [
    "def findPeak(arr, n) :\n",
    "    if (n==1):\n",
    "        return 0\n",
    "    if (arr[0]>arr[1]):\n",
    "        return 1\n",
    "    if (arr[n-1]>arr[n-2]):\n",
    "        return n-1\n",
    "    for i in range(1,n-1):\n",
    "        if arr[i]>arr[i-1] and arr[i]>arr[i+1]:\n",
    "            return i\n",
    "arr = [ 1, 3, 20, 4, 1, 0 ]\n",
    "n = len(arr)\n",
    "print(\"Index of a peak point is\", findPeak(arr, n))"
   ]
  },
  {
   "cell_type": "markdown",
   "id": "a6c029a1-500c-49cf-9529-84ee38032dd3",
   "metadata": {},
   "source": [
    "# Cyclically rotate an array by one"
   ]
  },
  {
   "cell_type": "code",
   "execution_count": 25,
   "id": "658d487a-36b0-4466-af70-0f3514623ca8",
   "metadata": {},
   "outputs": [
    {
     "data": {
      "text/plain": [
       "[2, 1, 3, 5, 6, 3, 7, 5, 9]"
      ]
     },
     "execution_count": 25,
     "metadata": {},
     "output_type": "execute_result"
    }
   ],
   "source": [
    "def rotateByOne(arr):\n",
    "    n = len(arr)\n",
    "    x = arr[n-1]\n",
    "    # print(x)\n",
    "    for i in range(n - 1, 0, -1):\n",
    "        arr[i]=arr[i-1]\n",
    "    arr[0]=x\n",
    "    return arr\n",
    "\n",
    "rotateByOne([1,3,5,6,3,7,5,9,2])"
   ]
  },
  {
   "cell_type": "markdown",
   "id": "0ba0eba3-4de1-4852-81d1-4bf2e1f996cd",
   "metadata": {},
   "source": [
    "# Find the Missing Number"
   ]
  },
  {
   "cell_type": "code",
   "execution_count": 27,
   "id": "d76b9aa0-d203-468f-be92-64d7eff28d5d",
   "metadata": {},
   "outputs": [
    {
     "data": {
      "text/plain": [
       "[4]"
      ]
     },
     "execution_count": 27,
     "metadata": {},
     "output_type": "execute_result"
    }
   ],
   "source": [
    "# Find Missing Element\n",
    "def findMissing(arr, N):\n",
    "    # create a list of zeroes\n",
    "    ans =[]\n",
    "    temp = [0] * (N+1)\n",
    "    for i in range(0, N):\n",
    "        temp[arr[i] - 1] = 1\n",
    "    for i in range(0, N+1):\n",
    "        if(temp[i] == 0):\n",
    "            ans.append(i + 1)\n",
    "    return ans\n",
    "\n",
    "findMissing([1,2,3,5,6],5)\n"
   ]
  },
  {
   "cell_type": "markdown",
   "id": "1c458a6e-6877-4215-b043-2d8ec2059592",
   "metadata": {},
   "source": [
    "# Find duplicates in O(n) time and O(1) extra space"
   ]
  },
  {
   "cell_type": "code",
   "execution_count": 34,
   "id": "6026f67e-8541-41f5-9790-c5aea791ccd9",
   "metadata": {},
   "outputs": [
    {
     "name": "stdout",
     "output_type": "stream",
     "text": [
      "The repeating elements are : \n",
      "2  \n",
      "3  \n"
     ]
    }
   ],
   "source": [
    "numRay = [0, 4, 3, 2, 7, 8, 2, 3, 1]\n",
    "arr_size = len(numRay)\n",
    "# print(arr_size)\n",
    "for i in range(arr_size):\n",
    "    x = numRay[i] % arr_size\n",
    "    # print(x)\n",
    "    numRay[x] = numRay[x] + arr_size\n",
    "\n",
    "print(\"The repeating elements are : \")\n",
    "\n",
    "for i in range(arr_size):\n",
    "    # print(arr_size*2)\n",
    "    # print(numRay[i])\n",
    "    if (numRay[i] >= arr_size*2):\n",
    "        print(i, \" \")"
   ]
  },
  {
   "cell_type": "code",
   "execution_count": null,
   "id": "cdc19ffd-6184-4335-a62b-73725a440359",
   "metadata": {},
   "outputs": [],
   "source": [
    "# Write code find if string is bracket balances or not\n",
    "\n",
    "str1= \"{This}is[(example)string]\" # Balanced"
   ]
  },
  {
   "cell_type": "code",
   "execution_count": null,
   "id": "9de6968d-fcf0-470c-be4e-41aa740e722c",
   "metadata": {},
   "outputs": [],
   "source": [
    "# Write code find sum of the values in node and value tree \n",
    "\n",
    "{\n",
    "    value:10\n",
    "    node:{\n",
    "        value:20\n",
    "        node:{\n",
    "            value:30\n",
    "        }\n",
    "    }\n",
    "}\n",
    "\n",
    "\n",
    "def findSum():\n",
    "    pass\n",
    "\n",
    "print(findSum())\n"
   ]
  },
  {
   "cell_type": "code",
   "execution_count": null,
   "id": "9e252d8b-e69b-4deb-8abb-3e65bfd1db22",
   "metadata": {},
   "outputs": [],
   "source": [
    "# Reverse a Linkedlist\n"
   ]
  },
  {
   "cell_type": "code",
   "execution_count": null,
   "id": "6a5406c9-6fad-43b8-bf73-68f9f3a100ac",
   "metadata": {},
   "outputs": [],
   "source": []
  }
 ],
 "metadata": {
  "kernelspec": {
   "display_name": "Python 3 (ipykernel)",
   "language": "python",
   "name": "python3"
  },
  "language_info": {
   "codemirror_mode": {
    "name": "ipython",
    "version": 3
   },
   "file_extension": ".py",
   "mimetype": "text/x-python",
   "name": "python",
   "nbconvert_exporter": "python",
   "pygments_lexer": "ipython3",
   "version": "3.10.6"
  }
 },
 "nbformat": 4,
 "nbformat_minor": 5
}
