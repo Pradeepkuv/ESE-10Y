{
 "cells": [
  {
   "cell_type": "markdown",
   "id": "66c57c05-6bc6-4351-aa6a-208f63ffac71",
   "metadata": {},
   "source": [
    "# Topic\n",
    "- Complexity Analysis\n",
    "- Arrays\n",
    "- Strings\n",
    "- Linkedlist\n",
    "- Queue\n",
    "- Stack\n",
    "- Sorting\n",
    "- Searching\n",
    "- Recurssion\n",
    "- Dynamic programing\n",
    "- Competetive programing"
   ]
  },
  {
   "cell_type": "markdown",
   "id": "68c6ca8e-1596-49cd-bd1a-c00a806a2814",
   "metadata": {},
   "source": [
    "# Count Pairs with Given Some\n",
    "\n",
    "Given an array of N integers, and an integer K, find the number of pairs of elements in the array whose sum is equal to K.\n",
    "\n",
    "Example 1:\n",
    "\n",
    "```\n",
    "Input:\n",
    "N = 4, K = 6\n",
    "arr[] = {1, 5, 7, 1}\n",
    "Output: 2\n",
    "Explanation: \n",
    "arr[0] + arr[1] = 1 + 5 = 6 \n",
    "and arr[1] + arr[3] = 5 + 1 = 6.\n",
    "```\n",
    "\n",
    "Example 2:\n",
    "\n",
    "```\n",
    "Input:\n",
    "N = 4, K = 2\n",
    "arr[] = {1, 1, 1, 1}\n",
    "Output: 6\n",
    "Explanation: \n",
    "Each 1 will produce sum 2 with any 1.\n",
    "```\n",
    "\n",
    "Your Task:\n",
    "\n",
    "You don't need to read input or print anything. Your task is to complete the function getPairsCount() which takes arr[], n and k as input parameters and returns the number of pairs that have sum K.\n",
    "\n",
    "\n",
    "Expected Time Complexity: O(N)\n",
    "\n",
    "Expected Auxiliary Space: O(N)\n",
    "\n",
    "Constraints:\n",
    "```\n",
    "1 <= N <= 10^5\n",
    "\n",
    "1 <= K <= 10^8\n",
    "\n",
    "1 <= Arr[i] <= 10^6\n",
    "```"
   ]
  },
  {
   "cell_type": "markdown",
   "id": "d0261136-ea8e-4ab6-969d-3bfb78365f6a",
   "metadata": {},
   "source": [
    "**Naive Approach:** \n",
    "\n",
    "A simple solution is to traverse each element and check if there’s another number in the array which can be added to it to give sum.\n",
    "\n",
    "This can be achieved by nested loops.\n",
    "\n",
    "Illustration:\n",
    "\n",
    "```\n",
    "Given arr[] = {1, 5, 7, -1}, sum = 6\n",
    "count = 0\n",
    "\n",
    "First Iteration : For index = 0\n",
    "{1, 5, 7, -1}, pair = (1, 5), count = 1\n",
    "Second Iteration : For index = 1\n",
    "{1, 5, 7, -1}, count = 1\n",
    "Third Iteration : For index = 2\n",
    "{1, 5, 7, -1}, count = 2\n",
    "Hence output is 2\n",
    "```\n",
    "\n",
    "Follow the steps below to solve the given problem:\n",
    "\n",
    "- Initialize the count variable with 0 which stores the result.\n",
    "\n",
    "- Iterate arr and if the sum of ith and jth [i + 1…..n – 1] element is equal to sum i.e. arr[i] + arr[j] == sum, then increment the count variable.\n",
    "\n",
    "- Return the count."
   ]
  },
  {
   "cell_type": "code",
   "execution_count": 2,
   "id": "c6b53915-6911-4c79-967b-e918f99cd9b8",
   "metadata": {},
   "outputs": [
    {
     "name": "stdout",
     "output_type": "stream",
     "text": [
      "Count of pairs is 3\n"
     ]
    }
   ],
   "source": [
    "def getPairsCount(arr, n, sum):\n",
    " \n",
    "    count = 0  # Initialize result\n",
    " \n",
    "    # Consider all possible pairs\n",
    "    # and check their sums\n",
    "    for i in range(0, n):\n",
    "        for j in range(i + 1, n):\n",
    "            if arr[i] + arr[j] == sum:\n",
    "                count += 1\n",
    " \n",
    "    return count\n",
    " \n",
    " \n",
    "# Driver function\n",
    "arr = [1, 5, 7, -1, 5]\n",
    "n = len(arr)\n",
    "sum = 6\n",
    "print(\"Count of pairs is\",\n",
    "      getPairsCount(arr, n, sum))"
   ]
  },
  {
   "cell_type": "code",
   "execution_count": 4,
   "id": "46d91e99-ec1d-4706-9d95-e4f81a26e7f4",
   "metadata": {},
   "outputs": [
    {
     "name": "stdout",
     "output_type": "stream",
     "text": [
      "Count of pairs is 3\n"
     ]
    }
   ],
   "source": [
    "\n",
    "def getPairsCount(arr, n, k):\n",
    "    cnt = 0\n",
    "    hashmap= {}\n",
    "    for i in arr:\n",
    "        #print (hashmap)\n",
    "        if i in hashmap:\n",
    "            #print (\"here \",i)\n",
    "            hashmap[i]+=1\n",
    "        else:\n",
    "            #print (\"else \",i)\n",
    "            hashmap[i]=1\n",
    "    #print (hashmap) \n",
    "    for i in arr:\n",
    "        if k-i>0 and k-i in hashmap and hashmap[k-i]>0:\n",
    "                hashmap[i]-=1\n",
    "                cnt+=hashmap[k-i]\n",
    "    return cnt\n",
    "\n",
    "# Driver function\n",
    "arr = [1, 5, 7, -1, 5]\n",
    "n = len(arr)\n",
    "sum = 6\n",
    "print(\"Count of pairs is\",getPairsCount(arr, n, sum))"
   ]
  },
  {
   "cell_type": "markdown",
   "id": "998aa275-c740-49d0-b476-306663c4dd9d",
   "metadata": {},
   "source": [
    "# Maximum and Minimun of an Array\n",
    "\n",
    "Given an array of size **N**. The task is to find the maximum and the minimum element of the array using the minimum number of comparisons.\n",
    "\n",
    "Examples:\n",
    "\n",
    "```\n",
    "Input: arr[] = {3, 5, 4, 1, 9}\n",
    "Output: Minimum element is: 1\n",
    "        Maximum element is: 9\n",
    "\n",
    "Input: arr[] = {22, 14, 8, 17, 35, 3}\n",
    "Output:  Minimum element is: 3\n",
    "         Maximum element is: 35\n",
    "```"
   ]
  },
  {
   "cell_type": "code",
   "execution_count": 6,
   "id": "4b3e0a32-b2ad-4582-a327-0f75b7b8fc83",
   "metadata": {},
   "outputs": [
    {
     "name": "stdout",
     "output_type": "stream",
     "text": [
      "Minimum element is 1\n",
      "Maximum element is 3000\n"
     ]
    }
   ],
   "source": [
    "# Python program of above implementation\n",
    "\n",
    "# structure is used to return two values from minMax()\n",
    "\n",
    "class Pair:\n",
    "    def __init__(self):\n",
    "        self.min = 0\n",
    "        self.max = 0\n",
    "\n",
    "def getMinMax(arr: list, n: int) -> Pair:\n",
    "    minmax = Pair()\n",
    "    # If there is only one element then return it as min and max both\n",
    "    if n == 1:\n",
    "        minmax.max = arr[0]\n",
    "        minmax.min = arr[0]\n",
    "        return minmax\n",
    "    # If there are more than one elements, then initialize min and max\n",
    "    if arr[0] > arr[1]:\n",
    "        minmax.max = arr[0]\n",
    "        minmax.min = arr[1]\n",
    "    else:\n",
    "        minmax.max = arr[1]\n",
    "        minmax.min = arr[0]\n",
    "    for i in range(2, n):\n",
    "        if arr[i] > minmax.max:\n",
    "            minmax.max = arr[i]\n",
    "        elif arr[i] < minmax.min:\n",
    "            minmax.min = arr[i]\n",
    "    return minmax\n",
    "\n",
    "# Driver Code\n",
    "if __name__ == \"__main__\":\n",
    "    arr = [1000, 11, 445, 1, 330, 3000]\n",
    "    arr_size = 6\n",
    "    minmax = getMinMax(arr, arr_size)\n",
    "    print(\"Minimum element is\", minmax.min)\n",
    "    print(\"Maximum element is\", minmax.max)\n"
   ]
  },
  {
   "cell_type": "markdown",
   "id": "7fc4c6e6-5920-4fb0-8cc2-374bc91801ab",
   "metadata": {},
   "source": [
    "# Write a program to reverse an array or string\n",
    "\n",
    "Given an array (or string), the task is to reverse the array/string.\n",
    "Examples : \n",
    " \n",
    "\n",
    "Input  : arr[] = {1, 2, 3}\n",
    "\n",
    "Output : arr[] = {3, 2, 1}\n",
    "\n",
    "\n",
    "Input :  arr[] = {4, 5, 1, 2}\n",
    "\n",
    "Output : arr[] = {2, 1, 5, 4}\n"
   ]
  },
  {
   "cell_type": "code",
   "execution_count": 7,
   "id": "aa3c2355-5c9c-4478-9ba3-59f6f53a7133",
   "metadata": {},
   "outputs": [
    {
     "name": "stdout",
     "output_type": "stream",
     "text": [
      "[1, 2, 3, 4, 5, 6]\n",
      "Reversed list is\n",
      "[6, 5, 4, 3, 2, 1]\n"
     ]
    }
   ],
   "source": [
    "def reverseList(A, start, end):\n",
    "    while start < end:\n",
    "        A[start], A[end] = A[end], A[start]\n",
    "        start += 1\n",
    "        end -= 1\n",
    " \n",
    "# Driver function to test above function\n",
    "A = [1, 2, 3, 4, 5, 6]\n",
    "print(A)\n",
    "reverseList(A, 0, 5)\n",
    "print(\"Reversed list is\")\n",
    "print(A)"
   ]
  },
  {
   "cell_type": "code",
   "execution_count": null,
   "id": "cdc19ffd-6184-4335-a62b-73725a440359",
   "metadata": {},
   "outputs": [],
   "source": []
  }
 ],
 "metadata": {
  "kernelspec": {
   "display_name": "Python 3 (ipykernel)",
   "language": "python",
   "name": "python3"
  },
  "language_info": {
   "codemirror_mode": {
    "name": "ipython",
    "version": 3
   },
   "file_extension": ".py",
   "mimetype": "text/x-python",
   "name": "python",
   "nbconvert_exporter": "python",
   "pygments_lexer": "ipython3",
   "version": "3.10.6"
  }
 },
 "nbformat": 4,
 "nbformat_minor": 5
}
